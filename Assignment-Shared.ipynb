{
 "cells": [
  {
   "cell_type": "code",
   "execution_count": 11,
   "metadata": {},
   "outputs": [],
   "source": [
    "# Import Libraries\n",
    "\n",
    "from threading import Thread\n",
    "from pyspark.streaming import StreamingContext\n",
    "\n",
    "import pandas as pd\n",
    "from pathlib import Path\n",
    "import glob\n",
    "import os\n",
    "\n",
    "from pyspark import *\n",
    "from pyspark import SparkContext\n",
    "import pandas as pd\n",
    "from pathlib import Path\n",
    "import glob\n",
    "import os\n",
    "from pyspark.sql.types import ArrayType, StructField, StructType, StringType, IntegerType"
   ]
  },
  {
   "cell_type": "code",
   "execution_count": 7,
   "metadata": {},
   "outputs": [
    {
     "data": {
      "text/html": [
       "<style>.container { width:95% !important; }</style>"
      ],
      "text/plain": [
       "<IPython.core.display.HTML object>"
      ]
     },
     "metadata": {},
     "output_type": "display_data"
    }
   ],
   "source": [
    "# Set styleing to limit and set fixed width for print boxes\n",
    "\n",
    "from IPython.core.display import display, HTML\n",
    "display(HTML(\"<style>.container { width:95% !important; }</style>\"))"
   ]
  },
  {
   "cell_type": "code",
   "execution_count": 12,
   "metadata": {},
   "outputs": [
    {
     "data": {
      "text/html": [
       "\n",
       "            <div>\n",
       "                <p><b>SparkSession - hive</b></p>\n",
       "                \n",
       "        <div>\n",
       "            <p><b>SparkContext</b></p>\n",
       "\n",
       "            <p><a href=\"http://192.168.0.104:4042\">Spark UI</a></p>\n",
       "\n",
       "            <dl>\n",
       "              <dt>Version</dt>\n",
       "                <dd><code>v2.4.5</code></dd>\n",
       "              <dt>Master</dt>\n",
       "                <dd><code>local[*]</code></dd>\n",
       "              <dt>AppName</dt>\n",
       "                <dd><code>PySparkShell</code></dd>\n",
       "            </dl>\n",
       "        </div>\n",
       "        \n",
       "            </div>\n",
       "        "
      ],
      "text/plain": [
       "<pyspark.sql.session.SparkSession at 0x214af0f7188>"
      ]
     },
     "execution_count": 12,
     "metadata": {},
     "output_type": "execute_result"
    }
   ],
   "source": [
    "# defining spark context and spark session\n",
    "\n",
    "sc\n",
    "spark"
   ]
  },
  {
   "cell_type": "code",
   "execution_count": 13,
   "metadata": {},
   "outputs": [],
   "source": [
    "# Defining the schema of the json texts\n",
    "\n",
    "schema = StructType([\n",
    "    StructField('title_page', StringType(), True),\n",
    "    StructField('text_new', StringType(), True),\n",
    "    StructField('text_old', StringType(), True),\n",
    "    StructField('name_user', StringType(), True),\n",
    "    StructField('label', StringType(), True),\n",
    "    StructField('comment', StringType(), True)\n",
    "])"
   ]
  },
  {
   "cell_type": "code",
   "execution_count": 15,
   "metadata": {},
   "outputs": [
    {
     "name": "stdout",
     "output_type": "stream",
     "text": [
      "+--------------------+--------------------+--------------------+--------------------+------+--------------------+\n",
      "|          title_page|            text_new|            text_old|           name_user| label|             comment|\n",
      "+--------------------+--------------------+--------------------+--------------------+------+--------------------+\n",
      "|      Chris Sparling|{{Infobox person\n",
      "...|{{Infobox person\n",
      "...|              Lrapsc|  safe|Made slight adjus...|\n",
      "|Genocides in history|{{Use American En...|{{Use American En...|               OAO24|unsafe|                    |\n",
      "|2016 United State...|{{For|related rac...|{{For|related rac...|             Gggiann|  safe|→‎Notable express...|\n",
      "| List of iOS devices|{{short descripti...|{{short descripti...|            Quebec99|  safe|Fix duplicate ref...|\n",
      "| List of iOS devices|{{short descripti...|{{short descripti...|            Quebec99|  safe|Fix duplicate ref...|\n",
      "|List of Georgetow...|{{short descripti...|{{short descripti...|       Carolinem0101|  safe| →‎White House staff|\n",
      "|List of Georgetow...|{{short descripti...|{{short descripti...|       Carolinem0101|  safe| →‎White House staff|\n",
      "|List of attacks r...|{{short descripti...|{{short descripti...|       BorderRegions|  safe|             →‎2010s|\n",
      "|List of attacks r...|{{short descripti...|{{short descripti...|       BorderRegions|  safe|             →‎2010s|\n",
      "|        Donald Trump|{{Other uses}}\n",
      "{{...|{{Other uses}}\n",
      "{{...|Space4Time3Contin...|  safe|→‎Coronavirus pan...|\n",
      "|List of attacks r...|{{short descripti...|{{short descripti...|       BorderRegions|  safe|             →‎2010s|\n",
      "|List of attacks r...|{{short descripti...|{{short descripti...|       BorderRegions|  safe|             →‎1980s|\n",
      "|2020 coronavirus ...|{{short descripti...|{{short descripti...| Sailing californium|  safe|                    |\n",
      "|List of deaths fr...|{{short descripti...|{{short descripti...|      Damien Linnane|  safe|             Capital|\n",
      "|List of films con...|{{short descripti...|{{short descripti...|        SAaphIrEblUE|unsafe|(Undid revision 9...|\n",
      "|List of films con...|{{short descripti...|{{short descripti...|        SAaphIrEblUE|  safe|→‎Death Of A Nati...|\n",
      "|List of films con...|{{short descripti...|{{short descripti...|        SAaphIrEblUE|  safe|→‎Death Of A Nati...|\n",
      "|2019–20 coronavir...|{{pp-protected|sm...|{{pp-protected|sm...|    Do what you want|  safe|→‎International a...|\n",
      "|Mythology of Benj...|{{Use mdy dates|d...|{{Use mdy dates|d...|             Corker1|  safe|→‎References:edit...|\n",
      "|Mythology of Benj...|{{Use mdy dates|d...|{{Use mdy dates|d...|             Corker1|  safe|→‎References:edit...|\n",
      "+--------------------+--------------------+--------------------+--------------------+------+--------------------+\n",
      "only showing top 20 rows\n",
      "\n"
     ]
    }
   ],
   "source": [
    "# Reading all the files as the defined schema (change and customise the path before use)\n",
    "\n",
    "df_main = spark.read.json(\"c:/spark/saves/**/part-*\",schema, multiLine=True)\n",
    "df_main.show()"
   ]
  },
  {
   "cell_type": "code",
   "execution_count": 23,
   "metadata": {},
   "outputs": [
    {
     "name": "stdout",
     "output_type": "stream",
     "text": [
      "                                    title_page  \\\n",
      "0                               Chris Sparling   \n",
      "1                         Genocides in history   \n",
      "2     2016 United States presidential election   \n",
      "3                          List of iOS devices   \n",
      "4                          List of iOS devices   \n",
      "...                                        ...   \n",
      "3960                         George Conway III   \n",
      "3961                          George T. Conway   \n",
      "3962                                  Sambavar   \n",
      "3963                                  Sambavar   \n",
      "3964                                  Sambavar   \n",
      "\n",
      "                                               text_new  \\\n",
      "0     {{Infobox person\\n| name                      ...   \n",
      "1     {{Use American English|date=August 2015}}\\n{{U...   \n",
      "2     {{For|related races|2016 United States electio...   \n",
      "3     {{short description|Wikipedia list article}}\\n...   \n",
      "4     {{short description|Wikipedia list article}}\\n...   \n",
      "...                                                 ...   \n",
      "3960  #redirect[[George T. Conway III]]{{R from shor...   \n",
      "3961  #REDIRECT[[George T. Conway III]]{{R from shor...   \n",
      "3962                               [[Tamil Sambavar]]\\n   \n",
      "3963                               [[Tamil Sambavar]]\\n   \n",
      "3964                               [[Tamil Sambavar]]\\n   \n",
      "\n",
      "                                               text_old   name_user   label  \\\n",
      "0     {{Infobox person\\n| name                      ...      Lrapsc    safe   \n",
      "1     {{Use American English|date=August 2015}}\\n{{U...       OAO24  unsafe   \n",
      "2     {{For|related races|2016 United States electio...     Gggiann    safe   \n",
      "3     {{short description|Wikipedia list article}}\\n...    Quebec99    safe   \n",
      "4     {{short description|Wikipedia list article}}\\n...    Quebec99    safe   \n",
      "...                                                 ...         ...     ...   \n",
      "3960                #redirect[[George T. Conway III]]\\n     Bagumba    safe   \n",
      "3961                #REDIRECT[[George T. Conway III]]\\n     Bagumba    safe   \n",
      "3962                                   [[Adi Andhra]]\\n  Wiseinfo07    safe   \n",
      "3963                                   [[Adi Andhra]]\\n  Wiseinfo07    safe   \n",
      "3964                                   [[Adi Andhra]]\\n  Wiseinfo07    safe   \n",
      "\n",
      "                                                comment  \n",
      "0     Made slight adjustment to release date for \"Th...  \n",
      "1                                                        \n",
      "2        →‎Notable expressions, phrases, and statements  \n",
      "3                Fix duplicate ref names –You can help!  \n",
      "4                Fix duplicate ref names –You can help!  \n",
      "...                                                 ...  \n",
      "3960                                               +cat  \n",
      "3961                                               +cat  \n",
      "3962                                                     \n",
      "3963                                                     \n",
      "3964                                                     \n",
      "\n",
      "[3965 rows x 6 columns]\n"
     ]
    }
   ],
   "source": [
    "# Convert spark dataframe to pandas dataframe\n",
    "# Doubt if needed\n",
    "\n",
    "df = df_main.select(\"*\").toPandas()\n",
    "print(df)"
   ]
  }
 ],
 "metadata": {
  "kernelspec": {
   "display_name": "Python 3",
   "language": "python",
   "name": "python3"
  },
  "language_info": {
   "codemirror_mode": {
    "name": "ipython",
    "version": 3
   },
   "file_extension": ".py",
   "mimetype": "text/x-python",
   "name": "python",
   "nbconvert_exporter": "python",
   "pygments_lexer": "ipython3",
   "version": "3.7.6"
  }
 },
 "nbformat": 4,
 "nbformat_minor": 4
}
